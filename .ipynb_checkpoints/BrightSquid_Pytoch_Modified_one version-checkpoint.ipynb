{
 "cells": [
  {
   "cell_type": "code",
   "execution_count": null,
   "id": "075a5f69",
   "metadata": {},
   "outputs": [],
   "source": [
    "import requests\n",
    "from bs4 import BeautifulSoup\n",
    "import pandas as pd"
   ]
  },
  {
   "cell_type": "code",
   "execution_count": null,
   "id": "d97e4747",
   "metadata": {},
   "outputs": [],
   "source": [
    "reviewlist = []\n",
    "#url = \"https://github.com/tensorflow/tensorflow/commits/09e2e823bdbcb86542acef851c42754578be3f6c\"\n",
    "\n",
    "def get_soup(url):\n",
    "    r = requests.get(url)\n",
    "    soup = BeautifulSoup(r.text, 'html.parser')\n",
    "    return soup\n",
    "\n",
    "def get_reviews(soup):\n",
    "    \n",
    "    containers = soup.find_all('div',{'class':'flex-auto min-width-0'})\n",
    "    try:\n",
    "        \n",
    "        for container in containers:\n",
    "            \n",
    "            link = 'https://github.com' + container.p.a.get('href')\n",
    "            review = {\n",
    "                'title': container.find('a',{'class':'Link--primary text-bold js-navigation-open markdown-title'}).text.strip(),\n",
    "                'url_link': 'https://github.com' + container.p.a.get('href'),\n",
    "                'commit_oid': link.replace('https://github.com/tensorflow/tensorflow/commit/','').strip(),}\n",
    "            reviewlist.append(review)\n",
    "    \n",
    "    except:\n",
    "        \n",
    "        pass\n",
    "    \n",
    "for x in range(34,37950,35):\n",
    "    soup = get_soup(f'https://github.com/pytorch/pytorch/commits/master?after=dca97b43946c9384411c735cbe7c5f213be177b5+{x}&branch=master')\n",
    "    print(f'Getting page: {x}')\n",
    "    #print(soup)\n",
    "    \n",
    "    get_reviews(soup)\n",
    "    print(len(reviewlist))\n",
    "    if not soup.find('button', {'disabled': \"disabled\"}):\n",
    "        pass\n",
    "    else:\n",
    "        break\n",
    "\n",
    "        \n",
    "df = pd.DataFrame(reviewlist)\n",
    "df.to_csv('pytoch_commit.csv', index=False)\n",
    "print('Fin.')\n",
    "\n",
    "\n",
    "                    "
   ]
  }
 ],
 "metadata": {
  "kernelspec": {
   "display_name": "Python 3",
   "language": "python",
   "name": "python3"
  },
  "language_info": {
   "codemirror_mode": {
    "name": "ipython",
    "version": 3
   },
   "file_extension": ".py",
   "mimetype": "text/x-python",
   "name": "python",
   "nbconvert_exporter": "python",
   "pygments_lexer": "ipython3",
   "version": "3.8.8"
  }
 },
 "nbformat": 4,
 "nbformat_minor": 5
}
